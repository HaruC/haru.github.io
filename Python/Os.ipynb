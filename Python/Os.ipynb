{
 "cells": [
  {
   "cell_type": "markdown",
   "metadata": {},
   "source": [
    "# re\n",
    "<pre><code font='15'>\n",
    "This module provides regular expression matching operations similar to\n",
    "those found in Perl.  It supports both 8-bit and Unicode strings; both\n",
    "the pattern and the strings being processed can contain null bytes and\n",
    "characters outside the US ASCII range.\n",
    "\n",
    "Regular expressions can contain both special and ordinary characters.\n",
    "Most ordinary characters, like \"A\", \"a\", or \"0\", are the simplest\n",
    "regular expressions; they simply match themselves.  You can\n",
    "concatenate ordinary characters, so last matches the string 'last'.\n",
    "\n",
    "The special characters are:\n",
    "    \".\"      Matches any character except a newline.\n",
    "    \"^\"      Matches the start of the string.\n",
    "    \"$\"      Matches the end of the string or just before the newline at\n",
    "             the end of the string.\n",
    "    \"*\"      Matches 0 or more (greedy) repetitions of the preceding RE.\n",
    "             Greedy means that it will match as many repetitions as possible.\n",
    "    \"+\"      Matches 1 or more (greedy) repetitions of the preceding RE.\n",
    "    \"?\"      Matches 0 or 1 (greedy) of the preceding RE.\n",
    "    *?,+?,?? Non-greedy versions of the previous three special characters.\n",
    "    {m,n}    Matches from m to n repetitions of the preceding RE.\n",
    "    {m,n}?   Non-greedy version of the above.\n",
    "    \"\\\\\"     Either escapes special characters or signals a special sequence.\n",
    "    []       Indicates a set of characters.\n",
    "             A \"^\" as the first character indicates a complementing set.\n",
    "    \"|\"      A|B, creates an RE that will match either A or B.\n",
    "    (...)    Matches the RE inside the parentheses.\n",
    "             The contents can be retrieved or matched later in the string.\n",
    "    (?aiLmsux) Set the A, I, L, M, S, U, or X flag for the RE (see below).\n",
    "    (?:...)  Non-grouping version of regular parentheses.\n",
    "    (?P<name>...) The substring matched by the group is accessible by name.\n",
    "    (?P=name)     Matches the text matched earlier by the group named name.\n",
    "    (?#...)  A comment; ignored.\n",
    "    (?=...)  Matches if ... matches next, but doesn't consume the string.\n",
    "    (?!...)  Matches if ... doesn't match next.\n",
    "    (?<=...) Matches if preceded by ... (must be fixed length).\n",
    "    (?<!...) Matches if not preceded by ... (must be fixed length).\n",
    "    (?(id/name)yes|no) Matches yes pattern if the group with id/name matched,\n",
    "                       the (optional) no pattern otherwise.\n",
    "\n",
    "The special sequences consist of \"\\\\\" and a character from the list\n",
    "below.  If the ordinary character is not on the list, then the\n",
    "resulting RE will match the second character.\n",
    "\n",
    "    \\number  Matches the contents of the group of the same number.\n",
    "    \\A       Matches only at the start of the string.\n",
    "    \\Z       Matches only at the end of the string.\n",
    "    \\b       Matches the empty string, but only at the start or end of a word.\n",
    "    \\B       Matches the empty string, but not at the start or end of a word.\n",
    "    \\d       Matches any decimal digit; equivalent to the set [0-9] in\n",
    "             bytes patterns or string patterns with the ASCII flag.\n",
    "             In string patterns without the ASCII flag, it will match the whole\n",
    "             range of Unicode digits.\n",
    "    \\D       Matches any non-digit character; equivalent to [^\\d].\n",
    "    \\s       Matches any whitespace character; equivalent to [ \\t\\n\\r\\f\\v] in\n",
    "             bytes patterns or string patterns with the ASCII flag.\n",
    "             In string patterns without the ASCII flag, it will match the whole\n",
    "             range of Unicode whitespace characters.\n",
    "    \\S       Matches any non-whitespace character; equivalent to [^\\s].\n",
    "    \\w       Matches any alphanumeric character; equivalent to [a-zA-Z0-9_]\n",
    "             in bytes patterns or string patterns with the ASCII flag.\n",
    "             In string patterns without the ASCII flag, it will match the\n",
    "             range of Unicode alphanumeric characters (letters plus digits\n",
    "             plus underscore).\n",
    "             With LOCALE, it will match the set [0-9_] plus characters defined\n",
    "             as letters for the current locale.\n",
    "    \\W       Matches the complement of \\w.\n",
    "    \\\\       Matches a literal backslash.\n",
    "\n",
    "This module exports the following functions:\n",
    "\n",
    "    match     Match a regular expression pattern to the beginning of a string.\n",
    "    fullmatch Match a regular expression pattern to all of a string.\n",
    "    search    Search a string for the presence of a pattern.\n",
    "    sub       Substitute occurrences of a pattern found in a string.\n",
    "    subn      Same as sub, but also return the number of substitutions made.\n",
    "    split     Split a string by the occurrences of a pattern.\n",
    "    findall   Find all occurrences of a pattern in a string.\n",
    "    finditer  Return an iterator yielding a match object for each match.\n",
    "    compile   Compile a pattern into a RegexObject.\n",
    "    purge     Clear the regular expression cache.\n",
    "    escape    Backslash all non-alphanumerics in a string.\n",
    "\n",
    "Some of the functions in this module takes flags as optional parameters:\n",
    "\n",
    "    A  ASCII       For string patterns, make \\w, \\W, \\b, \\B, \\d, \\D\n",
    "                   match the corresponding ASCII character categories\n",
    "                   (rather than the whole Unicode categories, which is the\n",
    "                   default).\n",
    "                   For bytes patterns, this flag is the only available\n",
    "                   behaviour and needn't be specified.\n",
    "    I  IGNORECASE  Perform case-insensitive matching.\n",
    "    L  LOCALE      Make \\w, \\W, \\b, \\B, dependent on the current locale.\n",
    "    M  MULTILINE   \"^\" matches the beginning of lines (after a newline)\n",
    "                   as well as the string.\n",
    "                   \"$\" matches the end of lines (before a newline) as well\n",
    "                   as the end of the string.\n",
    "    S  DOTALL      \".\" matches any character at all, including the newline.\n",
    "    X  VERBOSE     Ignore whitespace and comments for nicer looking RE's.\n",
    "    U  UNICODE     For compatibility only. Ignored for string patterns (it\n",
    "                   is the default), and forbidden for bytes patterns.\n",
    "\n",
    "This module also defines an exception 'error'.</code></pre>"
   ]
  },
  {
   "cell_type": "code",
   "execution_count": 1,
   "metadata": {},
   "outputs": [],
   "source": [
    "import re\n",
    "import os"
   ]
  },
  {
   "cell_type": "code",
   "execution_count": 2,
   "metadata": {},
   "outputs": [
    {
     "ename": "FileNotFoundError",
     "evalue": "[Errno 2] No such file or directory: './public/Sherlock.txt'",
     "output_type": "error",
     "traceback": [
      "\u001b[1;31m---------------------------------------------------------------------------\u001b[0m",
      "\u001b[1;31mFileNotFoundError\u001b[0m                         Traceback (most recent call last)",
      "\u001b[1;32m<ipython-input-2-41468cabd945>\u001b[0m in \u001b[0;36m<module>\u001b[1;34m()\u001b[0m\n\u001b[1;32m----> 1\u001b[1;33m \u001b[1;32mwith\u001b[0m \u001b[0mopen\u001b[0m\u001b[1;33m(\u001b[0m\u001b[1;34m'./public/Sherlock.txt'\u001b[0m\u001b[1;33m,\u001b[0m \u001b[1;34m'r'\u001b[0m\u001b[1;33m,\u001b[0m \u001b[0mencoding\u001b[0m\u001b[1;33m=\u001b[0m\u001b[1;34m'utf-8'\u001b[0m\u001b[1;33m)\u001b[0m \u001b[1;32mas\u001b[0m \u001b[0mfile\u001b[0m\u001b[1;33m:\u001b[0m\u001b[1;33m\u001b[0m\u001b[0m\n\u001b[0m\u001b[0;32m      2\u001b[0m     \u001b[0mtex\u001b[0m \u001b[1;33m=\u001b[0m \u001b[0mfile\u001b[0m\u001b[1;33m.\u001b[0m\u001b[0mread\u001b[0m\u001b[1;33m(\u001b[0m\u001b[1;33m)\u001b[0m\u001b[1;33m\u001b[0m\u001b[0m\n",
      "\u001b[1;31mFileNotFoundError\u001b[0m: [Errno 2] No such file or directory: './public/Sherlock.txt'"
     ]
    }
   ],
   "source": [
    "with open('./public/Sherlock.txt', 'r', encoding='utf-8') as file:\n",
    "    tex = file.read()"
   ]
  },
  {
   "cell_type": "code",
   "execution_count": null,
   "metadata": {},
   "outputs": [],
   "source": [
    "ls = tex.split()\n",
    "print('Symbols in Sherlock Holms: {}'.format(len(tex)))\n",
    "print('Words in Sherlock Holms: {}'.format(len(ls)))\n",
    "psymb = re.compile('\\w')\n",
    "pword = re.compile('\\w+')\n",
    "dict_s = sorted(set(psymb.findall(tex)))\n",
    "dict_w = sorted(set(pword.findall(tex)))\n",
    "\n",
    "from collections import defaultdict\n",
    "col = defaultdict(int)\n",
    "colw = defaultdict(int)\n",
    "for i in psymb.findall(tex):\n",
    "    col[i] +=1\n",
    "for i in pword.findall(tex):\n",
    "    colw[i] +=1\n",
    "def most(dictionary):\n",
    "    #code for picking\n",
    "# wor = 0\n",
    "# le = 0\n",
    "# it = []\n",
    "# lt = []\n",
    "# for i in ls:\n",
    "#     for let in i:\n",
    "#         it +=let\n",
    "#         le +=1\n",
    "#     wor +=1\n",
    "# print('Words:', wor, 'Letters:', le)"
   ]
  },
  {
   "cell_type": "code",
   "execution_count": null,
   "metadata": {},
   "outputs": [],
   "source": [
    "import mutagen"
   ]
  },
  {
   "cell_type": "code",
   "execution_count": null,
   "metadata": {},
   "outputs": [],
   "source": [
    "re."
   ]
  },
  {
   "cell_type": "code",
   "execution_count": null,
   "metadata": {},
   "outputs": [],
   "source": []
  },
  {
   "cell_type": "code",
   "execution_count": 10,
   "metadata": {},
   "outputs": [],
   "source": [
    "root_path = os.getcwd() "
   ]
  },
  {
   "cell_type": "code",
   "execution_count": 12,
   "metadata": {},
   "outputs": [
    {
     "name": "stdout",
     "output_type": "stream",
     "text": [
      "C:\\Users\\Haru\\Desktop\\Jupyter\\Python\\Classes.ipynb\n",
      "C:\\Users\\Haru\\Desktop\\Jupyter\\Python\\codekatas.ipynb\n",
      "C:\\Users\\Haru\\Desktop\\Jupyter\\Python\\Data.ipynb\n",
      "C:\\Users\\Haru\\Desktop\\Jupyter\\Python\\JuniPyter.ipynb\n",
      "C:\\Users\\Haru\\Desktop\\Jupyter\\Python\\Lex.ipynb\n",
      "C:\\Users\\Haru\\Desktop\\Jupyter\\Python\\Logging.ipynb\n",
      "C:\\Users\\Haru\\Desktop\\Jupyter\\Python\\Os.ipynb\n",
      "C:\\Users\\Haru\\Desktop\\Jupyter\\Python\\PyGame.ipynb\n",
      "C:\\Users\\Haru\\Desktop\\Jupyter\\Python\\python_lab_1_2016.ipynb\n",
      "C:\\Users\\Haru\\Desktop\\Jupyter\\Python\\Sound.ipynb\n",
      "C:\\Users\\Haru\\Desktop\\Jupyter\\Python\\Types Practice.ipynb\n",
      "C:\\Users\\Haru\\Desktop\\Jupyter\\Python\\Untitled.ipynb\n",
      "C:\\Users\\Haru\\Desktop\\Jupyter\\Python\\Untitled1.ipynb\n",
      "C:\\Users\\Haru\\Desktop\\Jupyter\\Python\\Untitled2_2.ipynb\n",
      "C:\\Users\\Haru\\Desktop\\Jupyter\\Python\\Untitled_1.ipynb\n",
      "C:\\Users\\Haru\\Desktop\\Jupyter\\Python\\Untitled_11.ipynb\n",
      "C:\\Users\\Haru\\Desktop\\Jupyter\\Python\\.ipynb_checkpoints\\Lex-checkpoint.ipynb\n",
      "C:\\Users\\Haru\\Desktop\\Jupyter\\Python\\.ipynb_checkpoints\\Os-checkpoint.ipynb\n",
      "C:\\Users\\Haru\\Desktop\\Jupyter\\Python\\F\\Classes.ipynb\n",
      "C:\\Users\\Haru\\Desktop\\Jupyter\\Python\\F\\codekatas.ipynb\n",
      "C:\\Users\\Haru\\Desktop\\Jupyter\\Python\\F\\Data.ipynb\n",
      "C:\\Users\\Haru\\Desktop\\Jupyter\\Python\\F\\Get real with classes.ipynb\n",
      "C:\\Users\\Haru\\Desktop\\Jupyter\\Python\\F\\Interpreter.ipynb\n",
      "C:\\Users\\Haru\\Desktop\\Jupyter\\Python\\F\\JuniPyter.ipynb\n",
      "C:\\Users\\Haru\\Desktop\\Jupyter\\Python\\F\\Os.ipynb\n",
      "C:\\Users\\Haru\\Desktop\\Jupyter\\Python\\F\\python_lab_1_2016.ipynb\n",
      "C:\\Users\\Haru\\Desktop\\Jupyter\\Python\\F\\Types Practice.ipynb\n",
      "C:\\Users\\Haru\\Desktop\\Jupyter\\Python\\F\\Untitled.ipynb\n",
      "C:\\Users\\Haru\\Desktop\\Jupyter\\Python\\F\\.ipynb_checkpoints\\Interpreter-checkpoint.ipynb\n"
     ]
    }
   ],
   "source": [
    "for root, dirs, files in os.walk(root_path):\n",
    "    for file in files:\n",
    "        if file.endswith(\".ipynb\"):\n",
    "             print(os.path.join(root, file))"
   ]
  },
  {
   "cell_type": "code",
   "execution_count": null,
   "metadata": {
    "collapsed": true
   },
   "outputs": [],
   "source": []
  },
  {
   "cell_type": "code",
   "execution_count": null,
   "metadata": {
    "collapsed": true
   },
   "outputs": [],
   "source": []
  },
  {
   "cell_type": "code",
   "execution_count": null,
   "metadata": {
    "collapsed": true
   },
   "outputs": [],
   "source": []
  },
  {
   "cell_type": "code",
   "execution_count": null,
   "metadata": {
    "collapsed": true
   },
   "outputs": [],
   "source": []
  },
  {
   "cell_type": "code",
   "execution_count": null,
   "metadata": {
    "collapsed": true
   },
   "outputs": [],
   "source": []
  },
  {
   "cell_type": "code",
   "execution_count": null,
   "metadata": {
    "collapsed": true
   },
   "outputs": [],
   "source": []
  },
  {
   "cell_type": "code",
   "execution_count": null,
   "metadata": {
    "collapsed": true
   },
   "outputs": [],
   "source": []
  },
  {
   "cell_type": "code",
   "execution_count": null,
   "metadata": {
    "collapsed": true
   },
   "outputs": [],
   "source": []
  },
  {
   "cell_type": "code",
   "execution_count": null,
   "metadata": {
    "collapsed": true
   },
   "outputs": [],
   "source": []
  },
  {
   "cell_type": "code",
   "execution_count": null,
   "metadata": {
    "collapsed": true
   },
   "outputs": [],
   "source": []
  }
 ],
 "metadata": {
  "kernelspec": {
   "display_name": "Python 3",
   "language": "python",
   "name": "python3"
  },
  "language_info": {
   "codemirror_mode": {
    "name": "ipython",
    "version": 3
   },
   "file_extension": ".py",
   "mimetype": "text/x-python",
   "name": "python",
   "nbconvert_exporter": "python",
   "pygments_lexer": "ipython3",
   "version": "3.6.3"
  }
 },
 "nbformat": 4,
 "nbformat_minor": 2
}
